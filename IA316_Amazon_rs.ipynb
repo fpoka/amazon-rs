{
 "cells": [
  {
   "cell_type": "markdown",
   "metadata": {
    "colab_type": "text",
    "id": "Cj-ONW3uxSIw"
   },
   "source": [
    "# @authors:\n",
    "\n",
    "Fritz poka Toukam \n",
    "\n",
    "\n",
    "Ndjekoua Sandjo Jean Thibaut"
   ]
  },
  {
   "cell_type": "markdown",
   "metadata": {
    "colab_type": "text",
    "id": "GY5HypT6zBU_"
   },
   "source": [
    "#Link to the presentation\n",
    "\n",
    "[link to the slides](https://docs.google.com/presentation/d/1Vbx7MCJtb7leRM5sD0q7WcskLuIyCKBkjLPoj6anU64/edit?usp=sharing)"
   ]
  },
  {
   "cell_type": "code",
   "execution_count": 0,
   "metadata": {
    "colab": {},
    "colab_type": "code",
    "id": "Z4IfbIJAwjF7"
   },
   "outputs": [],
   "source": [
    " %matplotlib inline\n",
    "import numpy as np\n",
    "import matplotlib.pyplot as plt\n",
    "from copy import copy, deepcopy\n",
    "import random\n",
    "from scipy.stats import norm\n",
    "from sklearn.utils.random import sample_without_replacement\n",
    "from scipy.special import softmax"
   ]
  },
  {
   "cell_type": "code",
   "execution_count": 0,
   "metadata": {
    "colab": {},
    "colab_type": "code",
    "id": "9uFxAWNswz2q"
   },
   "outputs": [],
   "source": [
    "def get_best_actions(q,nb_actions):\n",
    "  \"\"\"\n",
    "    get the best actions for the epsilon greeedy strategy given the vector q\n",
    "    @input \n",
    "    -q: array of shape (nb_items,) representing the weigth associated to each action\n",
    "    -nb_actions: number of actions to be choosen\n",
    "\n",
    "    @output\n",
    "    -actions: array of length (nb_actions,) representing the best actions proposed to the user\n",
    "    \n",
    "  \"\"\"\n",
    "  best_actions = np.argsort(q)[::-1][:nb_actions]\n",
    "  return best_actions"
   ]
  },
  {
   "cell_type": "code",
   "execution_count": 0,
   "metadata": {
    "colab": {},
    "colab_type": "code",
    "id": "slHV4J_Bw5Dj"
   },
   "outputs": [],
   "source": [
    "np.set_printoptions(precision=2)"
   ]
  },
  {
   "cell_type": "markdown",
   "metadata": {
    "colab_type": "text",
    "id": "4JEkia46w9Dk"
   },
   "source": [
    "#Amazon Environment\n",
    "\n",
    "#Reward\n",
    "Rewrard of a single item **i** related to user **u**:\n",
    "\n",
    "\n",
    "$ reward(u,i) = (u.i)*d*price*\\frac{1}{p}$\n",
    "\n",
    "\n",
    "Rewrard of **n** items related to user **u**:\n",
    "\n",
    "$rewards(u,n_i) = \\sum_{i=1}^{n_i} reward(u,i)$\n",
    "\n",
    "where:\n",
    "\n",
    " * **u** is the user feature vector\n",
    " * **i** is the item feature vector\n",
    " * **d** is the disponibility of the item (in the stock)\n",
    " * **price** is the price of item **i**\n",
    " * **p** is the number of times user **u** has purcharsed item **i** ( We decided not to limit the number of items proposed to a user. We can propose an item many times to a user, but with a decreasing reward. Same thing with the stock.)\n",
    "\n",
    "**NOTE** at each step, with probability $ 1- epsilon$ **fixed** a user can buy an item, and with probability $epsilon$ he will buy nothing. \n",
    "\n",
    "the probability of an item to be bougth is proportional to the reward related to that item."
   ]
  },
  {
   "cell_type": "code",
   "execution_count": 0,
   "metadata": {
    "colab": {},
    "colab_type": "code",
    "id": "krdCXQJHxFYW"
   },
   "outputs": [],
   "source": [
    "class Amazon_environment:\n",
    "    \"\"\" A rating environment for amazon recommender system.\n",
    "        User and items are represented by points in R^k\n",
    "        items_features  is the number of features that carachterizes each item\n",
    "\n",
    "        actions: Recommend nb_items items for a given user among all th items \n",
    "    \"\"\"\n",
    "\n",
    "    def __init__(self, nb_users=10, nb_items=20,items_featues=2, \n",
    "                 internal_embedding_size=3,nb_actions = 2,\n",
    "                 displayed_users_embedding_size=2,\n",
    "                 displayed_items_embedding_size=2,\n",
    "                 noise_size=3,epsilon=0.2,\n",
    "                 seed=None):\n",
    "        self.nb_users = nb_users\n",
    "        self.nb_actions = nb_actions\n",
    "        self.nb_items = nb_items\n",
    "        self.items_featues = items_featues\n",
    "        self.epsilon = epsilon\n",
    "        self.internal_embedding_size = internal_embedding_size\n",
    "        self.displayed_users_embedding_size = displayed_users_embedding_size\n",
    "        self.displayed_items_embedding_size = displayed_items_embedding_size\n",
    "        self.noise_size = noise_size\n",
    "        self._rng = np.random.RandomState(seed)\n",
    "        \n",
    "        self.action_size = self.nb_items\n",
    "        self.sampling_limit = nb_users * nb_items\n",
    "        self.user_mean = np.ones(self.internal_embedding_size)\n",
    "        self.user_var = np.ones(self.internal_embedding_size)\n",
    "        self.item_mean = np.ones(self.internal_embedding_size)\n",
    "        self.item_var = np.ones(self.internal_embedding_size)\n",
    "        self.users_embedding = None\n",
    "        self.items_embedding = None\n",
    "        self.user_item_history = None\n",
    "        self.done = False\n",
    "\n",
    "    def get_bought_item(self,epsilon,rewards,actions):\n",
    "        \"\"\"\n",
    "        -with probability epsilon, user does not buy any item, and with 1-epsilon he buys an item.\n",
    "        -an item is bougth following a probibility proportional to rewards associated to each item.\n",
    "        \"\"\"\n",
    "        a = -1\n",
    "        proba = np.random.rand() \n",
    "        if proba > epsilon:\n",
    "         probabilities = softmax(rewards)\n",
    "         a = np.random.choice(actions,size=1,p = probabilities)[0]\n",
    "        return a\n",
    "\n",
    "\n",
    "    def step(self, actions):\n",
    "        # check if behind done\n",
    "        if self.done: #self.user_item_history.sum() >= self.sampling_limit:\n",
    "            print(\"You are calling step after it return done=True.\\n\"\n",
    "                  \"You should reset the environment.\")\n",
    "\n",
    "        assert len(actions) == self.nb_actions #make sure the user actually chosed the correct number of actions.\n",
    "        self.actions = actions\n",
    "        \n",
    "        # compute potential rewards\n",
    "        u_i_h_reciprocal = np.reciprocal(self.user_item_history,dtype=float)\n",
    "        similarity = self.users_embedding[self.current_user,:]@(self.items_embedding.T)\n",
    "        disponibility = self.items_features_matrix[:,1] / np.max(self.items_features_matrix[:,1])\n",
    "        price = self.items_features_matrix[:,0]\n",
    "        potential_rewards = similarity*price*u_i_h_reciprocal[self.current_user,:]*disponibility\n",
    "        \n",
    "        \n",
    "        optimal_return = np.sum(np.sort(potential_rewards)[::-1][:self.nb_actions])\n",
    "\n",
    "        # compute reward R_t as a sum of the rewards of the actions given by the agent \n",
    "        self.current_rating = potential_rewards[actions]\n",
    "        self.reward = np.sum(self.current_rating)\n",
    "        \n",
    "        bought_item = self.get_bought_item(self.epsilon,self.current_rating,actions)\n",
    "        if bought_item != -1:\n",
    "           # mark item as bought\n",
    "           self.user_item_history[self.current_user,bought_item] += 1\n",
    "           #columns of items_features_matrix represent the disponibility of the items\n",
    "           self.items_features_matrix[bought_item,1]-=1\n",
    "\n",
    "        # compute next state S_{t+1}\n",
    "        self._next_state()\n",
    "        # update action space t+1\n",
    "      \n",
    "\n",
    "        return self.reward,potential_rewards, self.state, self.done, optimal_return\n",
    "        \n",
    "    def init_items_features_matrix(self,nb_items,nb_features):\n",
    "        price = np.random.randint(low=100,high=1000, size=nb_items)\n",
    "        price = price/np.max(price) #normalize the price between 0 and 1\n",
    "        disponibility = np.array([100]*nb_items) \n",
    "        matrix = np.array([price,disponibility]).T\n",
    "        return matrix\n",
    "\n",
    "  \n",
    "    def reset(self, seed=None):\n",
    "        self._rng = np.random.RandomState(seed)\n",
    "        self.action_size = self.nb_items\n",
    "        \n",
    "        # create users and items embedding matrix\n",
    "        self.users_embedding = abs(self._rng.normal(loc=self.user_mean,\n",
    "                                                scale=self.user_var,\n",
    "                                                size=(self.nb_users, self.internal_embedding_size)))\n",
    "        self.users_embedding = self.users_embedding/np.max(self.users_embedding) #normalize between [0,1] in order to avoid the reward to be too high.\n",
    "        self.items_embedding = abs(self._rng.normal(loc=self.item_mean,\n",
    "                                                scale=self.item_var,\n",
    "                                                size=(self.nb_items, self.internal_embedding_size)))\n",
    "        self.items_embedding = self.items_embedding/np.max(self.items_embedding)\n",
    "\n",
    "        #create the matrix of items_features where the first column is the price and the second is the stock \n",
    "        self.items_features_matrix = self.init_items_features_matrix(self.nb_items,self.items_featues)\n",
    "\n",
    "        self.user_item_history = np.ones((self.nb_users, self.nb_items))#will contains how many times each user bougth an item\n",
    "        self.done = False\n",
    "\n",
    "        self._next_state()\n",
    "        return self.state\n",
    "\n",
    "\n",
    "\n",
    "    \n",
    "    def _get_variables(self, user, item):\n",
    "        user_embedding = self.users_embedding[user]\n",
    "        item_embedding = self.items_embedding[item]\n",
    "        if self.displayed_users_embedding_size + self.displayed_items_embedding_size > 0:\n",
    "            variables = np.array([user_embedding[:self.displayed_users_embedding_size],\n",
    "                                  item_embedding[:self.displayed_items_embedding_size]])\n",
    "\n",
    "            if self.noise_size > 0:\n",
    "                noise = self._rng.normal(loc=np.ones(self.noise_size),\n",
    "                                         scale=np.ones(self.noise_size),\n",
    "                                         size=self.noise_size)\n",
    "                variables = np.append(variables, noise)\n",
    "\n",
    "            return variables\n",
    "\n",
    "    def _get_new_user(self):\n",
    "        user = self._rng.randint(0, self.nb_users) \n",
    "        return user\n",
    "  \n",
    "\n",
    "    def _next_state(self):\n",
    "        # Pick a user\n",
    "        self.current_user = self._get_new_user()\n",
    "        \n",
    "        self.state =list()\n",
    "        for item in np.arange(0,self.nb_items,1):\n",
    "          #Compute variables\n",
    "           variables = self._get_variables(self.current_user, item)\n",
    "           self.state.append([self.current_user, item, variables])"
   ]
  },
  {
   "cell_type": "markdown",
   "metadata": {
    "colab_type": "text",
    "id": "3gUQ6zrk9zzr"
   },
   "source": [
    "#EXPERIMENT FUNCTIONS"
   ]
  },
  {
   "cell_type": "code",
   "execution_count": 0,
   "metadata": {
    "colab": {},
    "colab_type": "code",
    "id": "AkehIHdFJGae"
   },
   "outputs": [],
   "source": [
    "\"\"\"\n",
    "runs nb_steps simulations between agent and environment\n",
    "@input \n",
    " -env: the envirenment\n",
    " -agent: the agent used for the simulation\n",
    " -nb_steps: number of interactions between agent and environment\n",
    " -env_seed: seed for the environment. Since both agent and environment are stochastics, this parameter allow the repeatability of the result\n",
    "@returns\n",
    "a disctionary containing regrets and cumulative regrets.  \n",
    "\"\"\"\n",
    "def run_exp(agent, env, nb_steps, env_seed):\n",
    "    rewards = np.zeros(nb_steps)\n",
    "    regrets = np.zeros(nb_steps)\n",
    "    actions = np.zeros(nb_steps)\n",
    "    context = env.reset(env_seed)\n",
    "    rating_matrix = np.zeros((env.nb_users, env.nb_items))\n",
    "    history_matrix = np.zeros((env.nb_users, env.nb_items))\n",
    "\n",
    "    for i in range(nb_steps):\n",
    "        # Select action from agent policy.\n",
    "        actions = agent.act(context)\n",
    "        # Play action in the environment and get reward.\n",
    "        reward,reward_array,next_context, done, optimal_return = env.step(actions)\n",
    "        # print(\"reward \",reward,\"optimal reward \",optimal_return,\"percentage \",reward/optimal_return)\n",
    "        # Update agent.\n",
    "        agent.update(context, actions, reward_array)\n",
    "        # Save history.\n",
    "        user =context[0][0]\n",
    "        history_matrix[user,actions] = reward_array[actions]\n",
    "        \n",
    "        context = next_context\n",
    "        \n",
    "        \n",
    "        rewards[i] = reward\n",
    "        # actions[i] = action\n",
    "        regrets[i] = optimal_return - reward\n",
    "\n",
    "    reward = rewards.sum()\n",
    "    regret = np.sum(regrets)\n",
    "  \n",
    "    return {'reward': reward, \n",
    "            'regret': regret,\n",
    "            'rewards': rewards,\n",
    "            'regrets': regrets,\n",
    "            'cum_rewards': np.cumsum(rewards), \n",
    "            'cum_regrets': np.cumsum(regrets),\n",
    "            'history_matrix': history_matrix\n",
    "            }\n"
   ]
  },
  {
   "cell_type": "code",
   "execution_count": 0,
   "metadata": {
    "colab": {},
    "colab_type": "code",
    "id": "D6-pGIb5-3as"
   },
   "outputs": [],
   "source": [
    "def monte_carlo_estimation(nb_exp,nb_steps,env,agent_name,nb_items=100,nb_actions=5,nb_users=60,epsilon=0.1,d=36,delta=0.1,items=None,estimated_rewards = None, eps=0.01):\n",
    "    \"\"\"\n",
    "run multiple experiments between agent and environment in order to have abetter estimation of the regret.\n",
    "@input\n",
    " -nb_exp: int, representing the number of monte carlo iterations\n",
    " -nb_steps: int representing the number of iterations performed for one monte carlo iteration.\n",
    " -env : the environment used for the experiments\n",
    " -agent: the agent used for the experiment\n",
    "\n",
    "@returns\n",
    "-regrets: ndarray of shape (nb_exp,nb_steps) where each line contains the cumulative regret for that one iteration.\n",
    "-regret: an array of shape (nb_exp,) containing the total regret incured at each monte carlo iteration \n",
    "\"\"\"\n",
    "    regret = np.zeros(nb_exp)\n",
    "    regrets = np.zeros((nb_exp, nb_steps))\n",
    "    for i in range(nb_exp):\n",
    "      if agent_name == \"random\":\n",
    "       agent = Random(nb_items,nb_actions=nb_actions,seed=2020)\n",
    "      if agent_name == \"epsilon_greedy\":\n",
    "        agent =  EpsilonGreedy(nb_items=nb_items,nb_actions=nb_actions,epsilon=epsilon,seed=2020)\n",
    "      if agent_name == \"linUCB\":\n",
    "        agent = LinUCBAgent(nb_steps, d, delta, nb_items, nb_actions,items)\n",
    "      if agent_name == \"deep_recommender\":\n",
    "       agent = DeepRecommenderAgent(nb_items, nb_users, nb_actions, estimated_rewards)\n",
    "      if agent_name == \"thompson\":\n",
    "        agent = ThompsonAgent(nb_steps, d, delta, eps, items, nb_actions)\n",
    "      if agent_name == \"ucb\":\n",
    "        agent = UCB(nb_items= nb_items, nb_actions=nb_actions)\n",
    "      exp = run_exp(agent, env, nb_steps, env_seed=i)\n",
    "      regret[i] = exp['regret'] \n",
    "      regrets[i] = exp['cum_regrets']\n",
    "    return regrets,regret  "
   ]
  },
  {
   "cell_type": "code",
   "execution_count": 0,
   "metadata": {
    "colab": {},
    "colab_type": "code",
    "id": "nfdWhBn3DIg_"
   },
   "outputs": [],
   "source": [
    "def plot_regret(regrets,regret,low_ci,high_ci,agent_name):\n",
    "  \"\"\"\n",
    "  plot the cumulative regret with the confiedence intervall of 0.05 and 0.95\n",
    "  \"\"\"\n",
    "  plt.plot(regrets.mean(axis=0), color='blue')\n",
    "  plt.plot(np.quantile(regrets, low_ci,axis=0), color='red', alpha=0.5)\n",
    "  plt.plot(np.quantile(regrets, high_ci,axis=0), color='red', alpha=0.5)\n",
    "  plt.title('Mean regret '+agent_name+':{:.2f}'.format(regret.mean()))\n",
    "  plt.xlabel('steps')\n",
    "  plt.ylabel('regret')\n",
    "  plt.show()"
   ]
  },
  {
   "cell_type": "markdown",
   "metadata": {
    "colab_type": "text",
    "id": "hgJBCQbjEMY1"
   },
   "source": [
    "#SETUP AMAZON ENVIRONMENT AND MONTE CARLO PARAMETERS"
   ]
  },
  {
   "cell_type": "code",
   "execution_count": 0,
   "metadata": {
    "colab": {},
    "colab_type": "code",
    "id": "37uyeMPVES0t"
   },
   "outputs": [],
   "source": [
    "nb_exp = 100\n",
    "nb_steps =  100\n",
    "low_ci = 0.05\n",
    "high_ci = 0.95\n",
    "nb_items = 100\n",
    "nb_users = 60\n",
    "nb_actions = 5\n",
    "\n",
    "amazon_env = Amazon_environment(nb_users=nb_users,nb_items=nb_items,items_featues=2,internal_embedding_size=36,nb_actions=nb_actions,displayed_items_embedding_size=2)"
   ]
  },
  {
   "cell_type": "markdown",
   "metadata": {
    "colab_type": "text",
    "id": "stUIagCWEGU8"
   },
   "source": [
    "#1-RANDOM AGENT"
   ]
  },
  {
   "cell_type": "code",
   "execution_count": 0,
   "metadata": {
    "colab": {},
    "colab_type": "code",
    "id": "GL0XFhm-EF31"
   },
   "outputs": [],
   "source": [
    "class Random:\n",
    "    \"\"\" Random agent. \"\"\"\n",
    "    def __init__(self, nb_items,nb_actions=2, seed=None):\n",
    "        self._nb_items = nb_items\n",
    "        self.nb_actions = nb_actions\n",
    "        self._rng = np.random.RandomState(seed)\n",
    "        \n",
    "    def act(self, context):\n",
    "        actions = sample_without_replacement(n_population = len(context)-1, n_samples = self.nb_actions)\n",
    "        return actions\n",
    "        \n",
    "    def update(self, context, action, rewards):\n",
    "        pass\n"
   ]
  },
  {
   "cell_type": "code",
   "execution_count": 31,
   "metadata": {
    "colab": {
     "base_uri": "https://localhost:8080/",
     "height": 295
    },
    "colab_type": "code",
    "id": "OGAre5erElhd",
    "outputId": "78b8bba4-6186-457f-f616-b1e4d1a1d24d"
   },
   "outputs": [
    {
     "data": {
      "image/png": "[encoded data removed]",
      "text/plain": [
       "<Figure size 432x288 with 1 Axes>"
      ]
     },
     "metadata": {
      "tags": []
     },
     "output_type": "display_data"
    }
   ],
   "source": [
    "random_agent = Random(nb_items,nb_actions=nb_actions,seed=2020)\n",
    "#run monte carlo estimation\n",
    "regrets,regret = monte_carlo_estimation(nb_exp,nb_steps,amazon_env,\"random\")\n",
    "#plot the graph of the cumulative regret \n",
    "plot_regret(regrets,regret,low_ci,high_ci,\"Random Agent\")"
   ]
  },
  {
   "cell_type": "markdown",
   "metadata": {
    "colab_type": "text",
    "id": "KrA7Zsh5LKbI"
   },
   "source": [
    "#2-EPSILON-GREEDY AGENT"
   ]
  },
  {
   "cell_type": "code",
   "execution_count": 0,
   "metadata": {
    "colab": {},
    "colab_type": "code",
    "id": "u_nGZCjTLTix"
   },
   "outputs": [],
   "source": [
    "class EpsilonGreedy:\n",
    "    \"\"\" Epsilon greedy agent. \"\"\"\n",
    "    def __init__(self, nb_items,nb_actions, epsilon=0, seed=None):\n",
    "        self._nb_items = nb_items\n",
    "        self._nb_actions = nb_actions\n",
    "        self._epsilon = epsilon\n",
    "        self._rng = np.random.RandomState(seed)\n",
    "        self._q = np.zeros(nb_items)\n",
    "        self._n = np.zeros(nb_items)\n",
    "        \n",
    "    def act(self,context):\n",
    "        if self._rng.random() < self._epsilon:\n",
    "            actions = sample_without_replacement(n_population = self._nb_items-1, n_samples = self._nb_actions)\n",
    "        else:\n",
    "            actions = get_best_actions(self._q,self._nb_actions)\n",
    "        return actions\n",
    "        \n",
    "    def update(self, context,actions, rewards):\n",
    "      for action in actions:\n",
    "        self._n[action] += 1\n",
    "        self._q[action] += (rewards[action] - self._q[action])/self._n[action]"
   ]
  },
  {
   "cell_type": "code",
   "execution_count": 33,
   "metadata": {
    "colab": {
     "base_uri": "https://localhost:8080/",
     "height": 295
    },
    "colab_type": "code",
    "id": "YfOSodj-Mbg-",
    "outputId": "9e4ac2c1-3096-4c57-f275-ef37b523b60d"
   },
   "outputs": [
    {
     "data": {
      "image/png": "[encoded data removed]",
      "text/plain": [
       "<Figure size 432x288 with 1 Axes>"
      ]
     },
     "metadata": {
      "tags": []
     },
     "output_type": "display_data"
    }
   ],
   "source": [
    "epsilon = 0.1\n",
    "epsilon_agent = EpsilonGreedy(nb_items=nb_items,nb_actions=nb_actions,epsilon=epsilon,seed=2020)\n",
    "#run monte carlo estimation\n",
    "regrets,regret = monte_carlo_estimation(nb_exp,nb_steps,amazon_env,\"epsilon_greedy\")\n",
    "#plot the graph of the cumulative regret \n",
    "plot_regret(regrets,regret,low_ci,high_ci,\"Epsilon Greedy Agent\")"
   ]
  },
  {
   "cell_type": "markdown",
   "metadata": {
    "colab_type": "text",
    "id": "naRcFbM4ZBB1"
   },
   "source": [
    "#3-Deep recommender Agent"
   ]
  },
  {
   "cell_type": "code",
   "execution_count": 34,
   "metadata": {
    "colab": {
     "base_uri": "https://localhost:8080/",
     "height": 34
    },
    "colab_type": "code",
    "id": "S65n1pbvZHiN",
    "outputId": "2a1d3b74-4d87-458a-f235-8d3c05aea965"
   },
   "outputs": [
    {
     "data": {
      "text/plain": [
       "(3357,)"
      ]
     },
     "execution_count": 34,
     "metadata": {
      "tags": []
     },
     "output_type": "execute_result"
    }
   ],
   "source": [
    "#generate historical data as a reward matrix\n",
    "\n",
    "exp = run_exp(random_agent,amazon_env, 1000, env_seed=2020)\n",
    "np.where(exp[\"history_matrix\"] != 0)[0].shape\n",
    "\n"
   ]
  },
  {
   "cell_type": "code",
   "execution_count": 35,
   "metadata": {
    "colab": {
     "base_uri": "https://localhost:8080/",
     "height": 63
    },
    "colab_type": "code",
    "id": "6v-9ragIptf8",
    "outputId": "0645a324-20d8-4bd7-bf3e-e86eb9b7777d"
   },
   "outputs": [
    {
     "data": {
      "text/html": [
       "<p style=\"color: red;\">\n",
       "The default version of TensorFlow in Colab will soon switch to TensorFlow 2.x.<br>\n",
       "We recommend you <a href=\"https://www.tensorflow.org/guide/migrate\" target=\"_blank\">upgrade</a> now \n",
       "or ensure your notebook will continue to use TensorFlow 1.x via the <code>%tensorflow_version 1.x</code> magic:\n",
       "<a href=\"https://colab.research.google.com/notebooks/tensorflow_version.ipynb\" target=\"_blank\">more info</a>.</p>\n"
      ],
      "text/plain": [
       "<IPython.core.display.HTML object>"
      ]
     },
     "metadata": {
      "tags": []
     },
     "output_type": "display_data"
    }
   ],
   "source": [
    "from tensorflow.keras.layers import Embedding, Flatten, Dense, Dropout, Concatenate \n",
    "from tensorflow.keras.layers import Dot\n",
    "from tensorflow.keras.models import Model\n",
    "from sklearn.model_selection import train_test_split\n",
    "from sklearn.metrics import mean_absolute_error, mean_squared_error\n",
    "import copy"
   ]
  },
  {
   "cell_type": "code",
   "execution_count": 36,
   "metadata": {
    "colab": {
     "base_uri": "https://localhost:8080/",
     "height": 88
    },
    "colab_type": "code",
    "id": "B_UUleyvp4-6",
    "outputId": "96cea34a-d0aa-4070-cb90-241f85e62e6d"
   },
   "outputs": [
    {
     "name": "stdout",
     "output_type": "stream",
     "text": [
      "WARNING:tensorflow:From /usr/local/lib/python3.6/dist-packages/tensorflow_core/python/keras/initializers.py:119: calling RandomUniform.__init__ (from tensorflow.python.ops.init_ops) with dtype is deprecated and will be removed in a future version.\n",
      "Instructions for updating:\n",
      "Call initializer instance with the dtype argument instead of passing it to the constructor\n"
     ]
    }
   ],
   "source": [
    "# For each sample we input the integer identifiers\n",
    "# of a single user and a single item\n",
    "class DeepRegressionModel(Model):\n",
    "\n",
    "    def __init__(self, embedding_size, max_user_id, max_item_id):\n",
    "        super().__init__()\n",
    "\n",
    "        self.user_embedding = Embedding(\n",
    "            output_dim=embedding_size,\n",
    "            input_dim=max_user_id + 1,\n",
    "            input_length=1,\n",
    "            name='user_embedding'\n",
    "        )\n",
    "        self.item_embedding = Embedding(\n",
    "            output_dim=embedding_size,\n",
    "            input_dim=max_item_id + 1,\n",
    "            input_length=1,\n",
    "            name='item_embedding'\n",
    "        )\n",
    "\n",
    "        # The following two layers don't have parameters.\n",
    "        self.flatten = Flatten()\n",
    "        self.concat = Concatenate()\n",
    "\n",
    "        \n",
    "        self.dropout = Dropout(0.5)\n",
    "        self.dense1 = Dense(64, activation=\"relu\")\n",
    "        self.dense2 = Dense(1)\n",
    "\n",
    "    def call(self, inputs, training=False):\n",
    "        user_inputs = inputs[0]\n",
    "        item_inputs = inputs[1]\n",
    "\n",
    "        user_vecs = self.flatten(self.user_embedding(user_inputs))\n",
    "        item_vecs = self.flatten(self.item_embedding(item_inputs))\n",
    "\n",
    "        input_vecs = self.concat([user_vecs, item_vecs])\n",
    "\n",
    "        y = self.dropout(input_vecs, training=training)\n",
    "        y = self.dense1(y)\n",
    "        y = self.dropout(y, training=training)\n",
    "        y = self.dense2(y)\n",
    "\n",
    "        return y\n",
    "\n",
    "\n",
    "    \n",
    "max_user_id = amazon_env.nb_users\n",
    "max_item_id = amazon_env.nb_items  \n",
    "model = DeepRegressionModel(36, max_user_id, max_item_id)\n",
    "model.compile(optimizer='adam', loss='mse', metrics =['accuracy'])"
   ]
  },
  {
   "cell_type": "code",
   "execution_count": 37,
   "metadata": {
    "colab": {
     "base_uri": "https://localhost:8080/",
     "height": 51
    },
    "colab_type": "code",
    "id": "y7Vj3Jp0xwm5",
    "outputId": "d6f4fca3-1b7a-4907-b717-c90fdba39ed3"
   },
   "outputs": [
    {
     "name": "stdout",
     "output_type": "stream",
     "text": [
      "(3021,)\n",
      "(336,)\n"
     ]
    }
   ],
   "source": [
    "history_matrix = exp[\"history_matrix\"]\n",
    "user_ids, item_ids = np.where(history_matrix != 0)\n",
    "user_id_train, user_id_test, item_id_train, item_id_test  = train_test_split(user_ids, item_ids, test_size=0.1, random_state=0)\n",
    "\n",
    "rewards_train = history_matrix[user_id_train, item_id_train]\n",
    "rewards_test = history_matrix[user_id_test, item_id_test]\n",
    "\n",
    "print(rewards_train.shape)\n",
    "print(rewards_test.shape)"
   ]
  },
  {
   "cell_type": "code",
   "execution_count": 38,
   "metadata": {
    "colab": {
     "base_uri": "https://localhost:8080/",
     "height": 1000
    },
    "colab_type": "code",
    "id": "t_W3XrIS0ekH",
    "outputId": "5e4b09c3-37c6-4d23-a3d4-86befaf79b36"
   },
   "outputs": [
    {
     "name": "stdout",
     "output_type": "stream",
     "text": [
      "WARNING:tensorflow:From /usr/local/lib/python3.6/dist-packages/tensorflow_core/python/ops/resource_variable_ops.py:1630: calling BaseResourceVariable.__init__ (from tensorflow.python.ops.resource_variable_ops) with constraint is deprecated and will be removed in a future version.\n",
      "Instructions for updating:\n",
      "If using Keras pass *_constraint arguments to layers.\n",
      "Train on 3021 samples\n",
      "Epoch 1/100\n",
      "3021/3021 [==============================] - 2s 605us/sample - loss: 1.8087 - acc: 0.0000e+00\n",
      "Epoch 2/100\n",
      "3021/3021 [==============================] - 0s 48us/sample - loss: 0.5490 - acc: 0.0000e+00\n",
      "Epoch 3/100\n",
      "3021/3021 [==============================] - 0s 52us/sample - loss: 0.2349 - acc: 0.0000e+00\n",
      "Epoch 4/100\n",
      "3021/3021 [==============================] - 0s 57us/sample - loss: 0.2049 - acc: 0.0000e+00\n",
      "Epoch 5/100\n",
      "3021/3021 [==============================] - 0s 53us/sample - loss: 0.1975 - acc: 0.0000e+00\n",
      "Epoch 6/100\n",
      "3021/3021 [==============================] - 0s 49us/sample - loss: 0.1865 - acc: 0.0000e+00\n",
      "Epoch 7/100\n",
      "3021/3021 [==============================] - 0s 52us/sample - loss: 0.1891 - acc: 0.0000e+00\n",
      "Epoch 8/100\n",
      "3021/3021 [==============================] - 0s 48us/sample - loss: 0.1793 - acc: 0.0000e+00\n",
      "Epoch 9/100\n",
      "3021/3021 [==============================] - 0s 51us/sample - loss: 0.1858 - acc: 0.0000e+00\n",
      "Epoch 10/100\n",
      "3021/3021 [==============================] - 0s 57us/sample - loss: 0.1697 - acc: 0.0000e+00\n",
      "Epoch 11/100\n",
      "3021/3021 [==============================] - 0s 49us/sample - loss: 0.1729 - acc: 0.0000e+00\n",
      "Epoch 12/100\n",
      "3021/3021 [==============================] - 0s 56us/sample - loss: 0.1730 - acc: 0.0000e+00\n",
      "Epoch 13/100\n",
      "3021/3021 [==============================] - 0s 54us/sample - loss: 0.1645 - acc: 0.0000e+00\n",
      "Epoch 14/100\n",
      "3021/3021 [==============================] - 0s 49us/sample - loss: 0.1746 - acc: 0.0000e+00\n",
      "Epoch 15/100\n",
      "3021/3021 [==============================] - 0s 51us/sample - loss: 0.1581 - acc: 0.0000e+00\n",
      "Epoch 16/100\n",
      "3021/3021 [==============================] - 0s 49us/sample - loss: 0.1582 - acc: 0.0000e+00\n",
      "Epoch 17/100\n",
      "3021/3021 [==============================] - 0s 51us/sample - loss: 0.1613 - acc: 0.0000e+00\n",
      "Epoch 18/100\n",
      "3021/3021 [==============================] - 0s 45us/sample - loss: 0.1556 - acc: 0.0000e+00\n",
      "Epoch 19/100\n",
      "3021/3021 [==============================] - 0s 58us/sample - loss: 0.1614 - acc: 0.0000e+00\n",
      "Epoch 20/100\n",
      "3021/3021 [==============================] - 0s 50us/sample - loss: 0.1579 - acc: 0.0000e+00\n",
      "Epoch 21/100\n",
      "3021/3021 [==============================] - 0s 46us/sample - loss: 0.1575 - acc: 0.0000e+00\n",
      "Epoch 22/100\n",
      "3021/3021 [==============================] - 0s 49us/sample - loss: 0.1482 - acc: 0.0000e+00\n",
      "Epoch 23/100\n",
      "3021/3021 [==============================] - 0s 47us/sample - loss: 0.1493 - acc: 0.0000e+00\n",
      "Epoch 24/100\n",
      "3021/3021 [==============================] - 0s 49us/sample - loss: 0.1528 - acc: 0.0000e+00\n",
      "Epoch 25/100\n",
      "3021/3021 [==============================] - 0s 47us/sample - loss: 0.1438 - acc: 0.0000e+00\n",
      "Epoch 26/100\n",
      "3021/3021 [==============================] - 0s 52us/sample - loss: 0.1433 - acc: 0.0000e+00\n",
      "Epoch 27/100\n",
      "3021/3021 [==============================] - 0s 46us/sample - loss: 0.1438 - acc: 0.0000e+00\n",
      "Epoch 28/100\n",
      "3021/3021 [==============================] - 0s 51us/sample - loss: 0.1446 - acc: 0.0000e+00\n",
      "Epoch 29/100\n",
      "3021/3021 [==============================] - 0s 48us/sample - loss: 0.1424 - acc: 0.0000e+00\n",
      "Epoch 30/100\n",
      "3021/3021 [==============================] - 0s 56us/sample - loss: 0.1474 - acc: 0.0000e+00\n",
      "Epoch 31/100\n",
      "3021/3021 [==============================] - 0s 52us/sample - loss: 0.1471 - acc: 0.0000e+00\n",
      "Epoch 32/100\n",
      "3021/3021 [==============================] - 0s 50us/sample - loss: 0.1420 - acc: 0.0000e+00\n",
      "Epoch 33/100\n",
      "3021/3021 [==============================] - 0s 50us/sample - loss: 0.1429 - acc: 0.0000e+00\n",
      "Epoch 34/100\n",
      "3021/3021 [==============================] - 0s 53us/sample - loss: 0.1409 - acc: 0.0000e+00\n",
      "Epoch 35/100\n",
      "3021/3021 [==============================] - 0s 52us/sample - loss: 0.1444 - acc: 0.0000e+00\n",
      "Epoch 36/100\n",
      "3021/3021 [==============================] - 0s 48us/sample - loss: 0.1395 - acc: 0.0000e+00\n",
      "Epoch 37/100\n",
      "3021/3021 [==============================] - 0s 48us/sample - loss: 0.1360 - acc: 0.0000e+00\n",
      "Epoch 38/100\n",
      "3021/3021 [==============================] - 0s 49us/sample - loss: 0.1415 - acc: 0.0000e+00\n",
      "Epoch 39/100\n",
      "3021/3021 [==============================] - 0s 50us/sample - loss: 0.1303 - acc: 0.0000e+00\n",
      "Epoch 40/100\n",
      "3021/3021 [==============================] - 0s 46us/sample - loss: 0.1324 - acc: 0.0000e+00\n",
      "Epoch 41/100\n",
      "3021/3021 [==============================] - 0s 49us/sample - loss: 0.1397 - acc: 0.0000e+00\n",
      "Epoch 42/100\n",
      "3021/3021 [==============================] - 0s 51us/sample - loss: 0.1352 - acc: 0.0000e+00\n",
      "Epoch 43/100\n",
      "3021/3021 [==============================] - 0s 51us/sample - loss: 0.1340 - acc: 0.0000e+00\n",
      "Epoch 44/100\n",
      "3021/3021 [==============================] - 0s 56us/sample - loss: 0.1318 - acc: 0.0000e+00\n",
      "Epoch 45/100\n",
      "3021/3021 [==============================] - 0s 48us/sample - loss: 0.1339 - acc: 0.0000e+00\n",
      "Epoch 46/100\n",
      "3021/3021 [==============================] - 0s 47us/sample - loss: 0.1365 - acc: 0.0000e+00\n",
      "Epoch 47/100\n",
      "3021/3021 [==============================] - 0s 48us/sample - loss: 0.1239 - acc: 0.0000e+00\n",
      "Epoch 48/100\n",
      "3021/3021 [==============================] - 0s 51us/sample - loss: 0.1260 - acc: 0.0000e+00\n",
      "Epoch 49/100\n",
      "3021/3021 [==============================] - 0s 61us/sample - loss: 0.1193 - acc: 0.0000e+00\n",
      "Epoch 50/100\n",
      "3021/3021 [==============================] - 0s 48us/sample - loss: 0.1305 - acc: 0.0000e+00\n",
      "Epoch 51/100\n",
      "3021/3021 [==============================] - 0s 54us/sample - loss: 0.1304 - acc: 0.0000e+00\n",
      "Epoch 52/100\n",
      "3021/3021 [==============================] - 0s 46us/sample - loss: 0.1271 - acc: 0.0000e+00\n",
      "Epoch 53/100\n",
      "3021/3021 [==============================] - 0s 50us/sample - loss: 0.1248 - acc: 0.0000e+00\n",
      "Epoch 54/100\n",
      "3021/3021 [==============================] - 0s 46us/sample - loss: 0.1249 - acc: 0.0000e+00\n",
      "Epoch 55/100\n",
      "3021/3021 [==============================] - 0s 52us/sample - loss: 0.1189 - acc: 0.0000e+00\n",
      "Epoch 56/100\n",
      "3021/3021 [==============================] - 0s 49us/sample - loss: 0.1210 - acc: 0.0000e+00\n",
      "Epoch 57/100\n",
      "3021/3021 [==============================] - 0s 54us/sample - loss: 0.1250 - acc: 0.0000e+00\n",
      "Epoch 58/100\n",
      "3021/3021 [==============================] - 0s 50us/sample - loss: 0.1261 - acc: 0.0000e+00\n",
      "Epoch 59/100\n",
      "3021/3021 [==============================] - 0s 49us/sample - loss: 0.1157 - acc: 0.0000e+00\n",
      "Epoch 60/100\n",
      "3021/3021 [==============================] - 0s 50us/sample - loss: 0.1219 - acc: 0.0000e+00\n",
      "Epoch 61/100\n",
      "3021/3021 [==============================] - 0s 59us/sample - loss: 0.1237 - acc: 0.0000e+00\n",
      "Epoch 62/100\n",
      "3021/3021 [==============================] - 0s 57us/sample - loss: 0.1208 - acc: 0.0000e+00\n",
      "Epoch 63/100\n",
      "3021/3021 [==============================] - 0s 53us/sample - loss: 0.1210 - acc: 0.0000e+00\n",
      "Epoch 64/100\n",
      "3021/3021 [==============================] - 0s 48us/sample - loss: 0.1228 - acc: 0.0000e+00\n",
      "Epoch 65/100\n",
      "3021/3021 [==============================] - 0s 51us/sample - loss: 0.1160 - acc: 0.0000e+00\n",
      "Epoch 66/100\n",
      "3021/3021 [==============================] - 0s 50us/sample - loss: 0.1155 - acc: 0.0000e+00\n",
      "Epoch 67/100\n",
      "3021/3021 [==============================] - 0s 55us/sample - loss: 0.1208 - acc: 0.0000e+00\n",
      "Epoch 68/100\n",
      "3021/3021 [==============================] - 0s 58us/sample - loss: 0.1161 - acc: 0.0000e+00\n",
      "Epoch 69/100\n",
      "3021/3021 [==============================] - 0s 51us/sample - loss: 0.1186 - acc: 0.0000e+00\n",
      "Epoch 70/100\n",
      "3021/3021 [==============================] - 0s 54us/sample - loss: 0.1113 - acc: 0.0000e+00\n",
      "Epoch 71/100\n",
      "3021/3021 [==============================] - 0s 50us/sample - loss: 0.1117 - acc: 0.0000e+00\n",
      "Epoch 72/100\n",
      "3021/3021 [==============================] - 0s 49us/sample - loss: 0.1119 - acc: 0.0000e+00\n",
      "Epoch 73/100\n",
      "3021/3021 [==============================] - 0s 55us/sample - loss: 0.1166 - acc: 0.0000e+00\n",
      "Epoch 74/100\n",
      "3021/3021 [==============================] - 0s 52us/sample - loss: 0.1158 - acc: 0.0000e+00\n",
      "Epoch 75/100\n",
      "3021/3021 [==============================] - 0s 51us/sample - loss: 0.1186 - acc: 0.0000e+00\n",
      "Epoch 76/100\n",
      "3021/3021 [==============================] - 0s 60us/sample - loss: 0.1171 - acc: 0.0000e+00\n",
      "Epoch 77/100\n",
      "3021/3021 [==============================] - 0s 57us/sample - loss: 0.1128 - acc: 0.0000e+00\n",
      "Epoch 78/100\n",
      "3021/3021 [==============================] - 0s 48us/sample - loss: 0.1162 - acc: 0.0000e+00\n",
      "Epoch 79/100\n",
      "3021/3021 [==============================] - 0s 50us/sample - loss: 0.1170 - acc: 0.0000e+00\n",
      "Epoch 80/100\n",
      "3021/3021 [==============================] - 0s 51us/sample - loss: 0.1175 - acc: 0.0000e+00\n",
      "Epoch 81/100\n",
      "3021/3021 [==============================] - 0s 53us/sample - loss: 0.1132 - acc: 0.0000e+00\n",
      "Epoch 82/100\n",
      "3021/3021 [==============================] - 0s 48us/sample - loss: 0.1116 - acc: 0.0000e+00\n",
      "Epoch 83/100\n",
      "3021/3021 [==============================] - 0s 49us/sample - loss: 0.1100 - acc: 0.0000e+00\n",
      "Epoch 84/100\n",
      "3021/3021 [==============================] - 0s 50us/sample - loss: 0.1108 - acc: 0.0000e+00\n",
      "Epoch 85/100\n",
      "3021/3021 [==============================] - 0s 49us/sample - loss: 0.1076 - acc: 0.0000e+00\n",
      "Epoch 86/100\n",
      "3021/3021 [==============================] - 0s 50us/sample - loss: 0.1136 - acc: 0.0000e+00\n",
      "Epoch 87/100\n",
      "3021/3021 [==============================] - 0s 54us/sample - loss: 0.1065 - acc: 0.0000e+00\n",
      "Epoch 88/100\n",
      "3021/3021 [==============================] - 0s 57us/sample - loss: 0.1117 - acc: 0.0000e+00\n",
      "Epoch 89/100\n",
      "3021/3021 [==============================] - 0s 47us/sample - loss: 0.1128 - acc: 0.0000e+00\n",
      "Epoch 90/100\n",
      "3021/3021 [==============================] - 0s 49us/sample - loss: 0.1069 - acc: 0.0000e+00\n",
      "Epoch 91/100\n",
      "3021/3021 [==============================] - 0s 49us/sample - loss: 0.1097 - acc: 0.0000e+00\n",
      "Epoch 92/100\n",
      "3021/3021 [==============================] - 0s 50us/sample - loss: 0.1127 - acc: 0.0000e+00\n",
      "Epoch 93/100\n",
      "3021/3021 [==============================] - 0s 56us/sample - loss: 0.1107 - acc: 0.0000e+00\n",
      "Epoch 94/100\n",
      "3021/3021 [==============================] - 0s 51us/sample - loss: 0.1084 - acc: 0.0000e+00\n",
      "Epoch 95/100\n",
      "3021/3021 [==============================] - 0s 51us/sample - loss: 0.1086 - acc: 0.0000e+00\n",
      "Epoch 96/100\n",
      "3021/3021 [==============================] - 0s 47us/sample - loss: 0.1074 - acc: 0.0000e+00\n",
      "Epoch 97/100\n",
      "3021/3021 [==============================] - 0s 56us/sample - loss: 0.1066 - acc: 0.0000e+00\n",
      "Epoch 98/100\n",
      "3021/3021 [==============================] - 0s 54us/sample - loss: 0.1098 - acc: 0.0000e+00\n",
      "Epoch 99/100\n",
      "3021/3021 [==============================] - 0s 70us/sample - loss: 0.1075 - acc: 0.0000e+00\n",
      "Epoch 100/100\n",
      "3021/3021 [==============================] - 0s 64us/sample - loss: 0.1054 - acc: 0.0000e+00\n"
     ]
    },
    {
     "data": {
      "text/plain": [
       "<tensorflow.python.keras.callbacks.History at 0x7f9a6d1c4e48>"
      ]
     },
     "execution_count": 38,
     "metadata": {
      "tags": []
     },
     "output_type": "execute_result"
    }
   ],
   "source": [
    "model.fit([user_id_train, item_id_train], rewards_train,\n",
    "                    batch_size=64, epochs=100, validation_split=0.0,\n",
    "                    shuffle=True)"
   ]
  },
  {
   "cell_type": "code",
   "execution_count": 39,
   "metadata": {
    "colab": {
     "base_uri": "https://localhost:8080/",
     "height": 34
    },
    "colab_type": "code",
    "id": "4AjJ2PI-0o9P",
    "outputId": "1a85e7d5-8c9f-4873-f4a8-40ca98d04674"
   },
   "outputs": [
    {
     "data": {
      "text/plain": [
       "0.10864943543206497"
      ]
     },
     "execution_count": 39,
     "metadata": {
      "tags": []
     },
     "output_type": "execute_result"
    }
   ],
   "source": [
    "predictions = model.predict([user_id_test, item_id_test])\n",
    "mean_squared_error(predictions,rewards_test)"
   ]
  },
  {
   "cell_type": "code",
   "execution_count": 40,
   "metadata": {
    "colab": {
     "base_uri": "https://localhost:8080/",
     "height": 255
    },
    "colab_type": "code",
    "id": "xKH9_Qxa1cjE",
    "outputId": "42d787ea-6ee5-4a4f-8b1f-ffae923a5afb"
   },
   "outputs": [
    {
     "name": "stdout",
     "output_type": "stream",
     "text": [
      "[[0.   1.39 0.   ... 0.23 2.39 0.  ]\n",
      " [0.   0.   1.35 ... 0.22 2.47 0.  ]\n",
      " [0.   1.67 0.66 ... 0.21 2.35 0.  ]\n",
      " ...\n",
      " [1.08 1.88 0.   ... 0.23 1.5  0.  ]\n",
      " [0.   2.   0.   ... 0.   3.02 0.  ]\n",
      " [0.   1.5  0.   ... 0.2  0.   0.  ]]\n",
      "[[0.79 1.39 0.94 ... 0.23 2.39 1.37]\n",
      " [0.86 1.59 1.35 ... 0.22 2.47 1.62]\n",
      " [0.8  1.67 0.66 ... 0.21 2.35 1.55]\n",
      " ...\n",
      " [1.08 1.88 1.24 ... 0.23 1.5  1.73]\n",
      " [0.94 2.   1.36 ... 0.36 3.02 1.85]\n",
      " [0.8  1.5  1.   ... 0.2  2.22 1.52]]\n"
     ]
    }
   ],
   "source": [
    "estimated_rewards = copy.deepcopy(history_matrix)\n",
    "\n",
    "for i in range(estimated_rewards.shape[0]) : \n",
    "    for j in range(estimated_rewards.shape[1]) :\n",
    "        if estimated_rewards[i,j] == 0 :\n",
    "            estimated_rewards[i,j] = model.predict([[i],[j]])\n",
    "\n",
    "print(history_matrix)\n",
    "print(estimated_rewards)\n"
   ]
  },
  {
   "cell_type": "code",
   "execution_count": 0,
   "metadata": {
    "colab": {},
    "colab_type": "code",
    "id": "a4XqCIZp-M40"
   },
   "outputs": [],
   "source": []
  },
  {
   "cell_type": "code",
   "execution_count": 0,
   "metadata": {
    "colab": {},
    "colab_type": "code",
    "id": "JT6AS1r428GH"
   },
   "outputs": [],
   "source": [
    "class DeepRecommenderAgent:\n",
    "    \"\"\" Deep Recommender agent. \"\"\"\n",
    "    def __init__(self, nb_items, nb_users, nb_actions, est_rewards, seed=None):\n",
    "        self.est_rewards = est_rewards\n",
    "        self.nb_items = nb_items\n",
    "        self.nb_users = nb_users\n",
    "        self.nb_actions = nb_actions\n",
    "        self.history = np.zeros((nb_users,nb_items))\n",
    "        self.t = 0\n",
    "        \n",
    "\n",
    "        \n",
    "    def act(self, context):\n",
    "        user = context[0][0]\n",
    "        items_rewards = self.est_rewards[user,:]\n",
    "        actions = get_best_actions(items_rewards,nb_actions)\n",
    "        self.t +=1\n",
    "        return actions\n",
    "        \n",
    "    def update(self, context, actions, rewards):\n",
    "        # Save history.\n",
    "        user = context[0][0]\n",
    "        self.history[user,actions] = rewards[actions]\n",
    "\n",
    "        #Train again to update the estimated_reward matrix used by the agent \n",
    "        freq = 150      #change here to update more frequently\n",
    "        if self.t %freq == 0:    \n",
    "          history_matrix = self.history\n",
    "          user_ids, item_ids = np.where(history_matrix != 0)\n",
    "          user_id_train, user_id_test, item_id_train, item_id_test  = train_test_split(user_ids, item_ids, test_size=0.1, random_state=0)\n",
    "          rewards_train = history_matrix[user_id_train, item_id_train]\n",
    "          rewards_test = history_matrix[user_id_test, item_id_test]\n",
    "\n",
    "          max_user_id = self.nb_users\n",
    "          max_item_id = self.nb_items  \n",
    "          model = DeepRegressionModel(36, max_user_id, max_item_id)\n",
    "          model.compile(optimizer='adam', loss='mse', metrics =['accuracy'])\n",
    "\n",
    "          model.fit([user_id_train, item_id_train], rewards_train,\n",
    "                    batch_size=64, epochs=50, validation_split=0.0,\n",
    "                    shuffle=True, verbose=0)\n",
    "          \n",
    "          predictions = model.predict([user_id_test, item_id_test])\n",
    "          estimated_rewards = copy.deepcopy(history_matrix)\n",
    "\n",
    "          for i in range(estimated_rewards.shape[0]) : \n",
    "                for j in range(estimated_rewards.shape[1]) :\n",
    "                    if estimated_rewards[i,j] == 0 :\n",
    "                        estimated_rewards[i,j] = model.predict([[i],[j]])\n",
    "          \n",
    "          self.est_rewards = estimated_rewards\n",
    "          \n",
    "\n",
    "        pass"
   ]
  },
  {
   "cell_type": "code",
   "execution_count": 0,
   "metadata": {
    "colab": {},
    "colab_type": "code",
    "id": "HzxUg0ZH3Fds"
   },
   "outputs": [],
   "source": [
    "deep_agent = DeepRecommenderAgent(nb_items, nb_users, nb_actions, estimated_rewards)"
   ]
  },
  {
   "cell_type": "code",
   "execution_count": 43,
   "metadata": {
    "colab": {
     "base_uri": "https://localhost:8080/",
     "height": 295
    },
    "colab_type": "code",
    "id": "i1G3bpX63Sye",
    "outputId": "a762ba1e-03dc-44e6-a9fc-d166e5dd7cc2"
   },
   "outputs": [
    {
     "data": {
      "image/png": "[encoded data removed]",
      "text/plain": [
       "<Figure size 432x288 with 1 Axes>"
      ]
     },
     "metadata": {
      "tags": []
     },
     "output_type": "display_data"
    }
   ],
   "source": [
    "#run monte carlo estimation\n",
    "regrets,regret = monte_carlo_estimation(nb_exp,nb_steps,amazon_env,\"deep_recommender\",nb_items=nb_items,nb_actions=nb_actions,nb_users=nb_users,epsilon=0.1,estimated_rewards=estimated_rewards)\n",
    "#plot the graph of the cumulative regret \n",
    "plot_regret(regrets,regret,low_ci,high_ci,\"Deep Recommender Agent\")"
   ]
  },
  {
   "cell_type": "markdown",
   "metadata": {
    "colab_type": "text",
    "id": "Ja8-DQlzH4G7"
   },
   "source": [
    "#4-Thompson Agent"
   ]
  },
  {
   "cell_type": "code",
   "execution_count": 0,
   "metadata": {
    "colab": {},
    "colab_type": "code",
    "id": "wg69Q8FOH88S"
   },
   "outputs": [],
   "source": [
    "class ThompsonAgent():\n",
    "    \n",
    "  def __init__(self, T,d, delta, eps, items, nb_actions):\n",
    "    self.T = 0\n",
    "    self.d = d\n",
    "    self.delta = delta\n",
    "    self.eps = eps\n",
    "    self.B = np.identity(self.d)\n",
    "    self.invB = np.identity(self.d)\n",
    "    self.beta = np.zeros(self.d)\n",
    "    self.f = np.zeros(self.d)\n",
    "    self.v = np.sqrt(24*self.d*np.log(1/self.delta)/self.eps)\n",
    "    self.items = items\n",
    "    self.nb_actions = nb_actions\n",
    "    pass\n",
    "\n",
    "  def act(self,context):\n",
    "    beta = np.random.multivariate_normal(self.beta, (self.v**2)*self.invB)\n",
    "    func = [ np.dot(a,self.beta) for a in self.items]\n",
    "    chosen_actions = get_best_actions(func,nb_actions)\n",
    "        \n",
    "    return chosen_actions\n",
    "            \n",
    "\n",
    "\n",
    "  def update(self, context, actions, rewards):\n",
    "    for chosen_action in actions:\n",
    "        arm_vec = self.items[chosen_action][:,np.newaxis]\n",
    "        self.B += np.dot(arm_vec,arm_vec.T)\n",
    "        self.invB = np.linalg.inv(self.B)\n",
    "        self.f += rewards[chosen_action]*self.items[chosen_action]\n",
    "        self.beta = np.dot(self.invB,self.f)\n",
    "\n",
    "    pass\n"
   ]
  },
  {
   "cell_type": "code",
   "execution_count": 45,
   "metadata": {
    "colab": {
     "base_uri": "https://localhost:8080/",
     "height": 295
    },
    "colab_type": "code",
    "id": "i1ASnnaGNIAc",
    "outputId": "d31c2256-9df7-4626-87cc-4c0043e3f306"
   },
   "outputs": [
    {
     "data": {
      "image/png": "[encoded data removed]",
      "text/plain": [
       "<Figure size 432x288 with 1 Axes>"
      ]
     },
     "metadata": {
      "tags": []
     },
     "output_type": "display_data"
    }
   ],
   "source": [
    "eps = 0.01\n",
    "items = amazon_env.items_embedding\n",
    "#run monte carlo estimation\n",
    "regrets,regret = monte_carlo_estimation(nb_exp,nb_steps,amazon_env,\"thompson\",d=d,delta=delta,items=items, eps=eps)\n",
    "#plot the graph of the cumulative regret \n",
    "plot_regret(regrets,regret,low_ci,high_ci,\"Thompson Agent\")"
   ]
  },
  {
   "cell_type": "markdown",
   "metadata": {
    "colab_type": "text",
    "id": "4CDAF4hZY9pu"
   },
   "source": [
    "#5-LinUCB Agent"
   ]
  },
  {
   "cell_type": "code",
   "execution_count": 0,
   "metadata": {
    "colab": {},
    "colab_type": "code",
    "id": "dnsRMJ-cZAIl"
   },
   "outputs": [],
   "source": [
    "class LinUCBAgent():\n",
    "\n",
    "  def __init__(self, T, d, delta, nb_items,nb_actions, items, params=None):\n",
    "    self.T = T\n",
    "    self.d = d\n",
    "    self.params = params\n",
    "    self.delta = delta\n",
    "    self.t = 0\n",
    "    self.covariance = np.identity(d)\n",
    "    self.sumAX = np.zeros(d)\n",
    "    self.theta = np.zeros(d)\n",
    "    self.invCov = np.identity(d)\n",
    "    self.items = items\n",
    "    self.nb_items = nb_items\n",
    "    self.nb_actions = nb_actions\n",
    "\n",
    "  def act(self,context ):\n",
    "    \n",
    "    beta = 1 + np.sqrt(2*np.log(1/delta) + self.d*np.log(1+self.t/self.d))\n",
    "    func = [np.dot(a,self.theta) + np.sqrt(beta*np.dot(a.dot(self.invCov),a)) for a in self.items]\n",
    "    chosen_actions = get_best_actions(func,nb_actions)\n",
    "        \n",
    "    return chosen_actions\n",
    "    \n",
    "\n",
    "  def update(self, context, actions, rewards):\n",
    "    arm_vec = self.items[:,np.newaxis]\n",
    "\n",
    "    for chosen_action in actions:\n",
    "      #The following line is the implementation of the Sherman-Morrison formula \n",
    "      arm_vec = self.items[chosen_action][:,np.newaxis]\n",
    "      self.invCov -= np.dot(self.invCov, (arm_vec.dot(arm_vec.T)).dot(self.invCov)) /(1+np.dot(arm_vec.T,self.invCov.dot(arm_vec)))\n",
    "\n",
    "      #Uncomment the two following lines to use a direct invertion with np.linalg.inv\n",
    "      #self.covariance += np.dot(arm_vec,arm_vec.T)\n",
    "      #self.invCov = np.linalg.inv(self.covariance)\n",
    "\n",
    "    for chosen_action in actions:\n",
    "      chosen_item = self.items[chosen_action] \n",
    "      self.sumAX += rewards[chosen_action]*chosen_item\n",
    "\n",
    "    self.theta = np.dot(self.invCov, self.sumAX)\n",
    "    self.t +=1\n",
    "\n",
    "    pass\n",
    "\n",
    "\n",
    "\n",
    "\n"
   ]
  },
  {
   "cell_type": "code",
   "execution_count": 47,
   "metadata": {
    "colab": {
     "base_uri": "https://localhost:8080/",
     "height": 295
    },
    "colab_type": "code",
    "id": "kArJFmbhEqSM",
    "outputId": "336a9832-e8e7-4c95-ae2b-947f157fc392"
   },
   "outputs": [
    {
     "data": {
      "image/png": "[encoded data removed]",
      "text/plain": [
       "<Figure size 432x288 with 1 Axes>"
      ]
     },
     "metadata": {
      "tags": []
     },
     "output_type": "display_data"
    }
   ],
   "source": [
    "d = amazon_env.internal_embedding_size\n",
    "items = amazon_env.items_embedding\n",
    "delta = 0.1\n",
    "linUCB_agent = LinUCBAgent(nb_steps, d,delta, nb_items, nb_actions,items)\n",
    "\n",
    "#run monte carlo estimation\n",
    "regrets,regret = monte_carlo_estimation(nb_exp,nb_steps,amazon_env,\"linUCB\",d=d,delta=delta,items=items)\n",
    "#plot the graph of the cumulative regret \n",
    "plot_regret(regrets,regret,low_ci,high_ci,\"LinUCB Agent\")"
   ]
  },
  {
   "cell_type": "markdown",
   "metadata": {
    "colab_type": "text",
    "id": "TmiafAQXcdke"
   },
   "source": [
    "#6-UCB Agent"
   ]
  },
  {
   "cell_type": "code",
   "execution_count": 0,
   "metadata": {
    "colab": {},
    "colab_type": "code",
    "id": "XrKo4-decl9z"
   },
   "outputs": [],
   "source": [
    "class UCB:\n",
    "    \"\"\" Upper Confidence Bound agent. \"\"\"\n",
    "\n",
    "    def __init__(self, nb_items, c=2,nb_actions=5,seed=None):\n",
    "        self.nb_items = nb_items\n",
    "        self.nb_actions = nb_actions\n",
    "        self._c = c\n",
    "        self._rng = np.random.RandomState(seed)\n",
    "        self._q = np.zeros(nb_items)\n",
    "        self._n = np.zeros(nb_items)\n",
    "        self._t = 0\n",
    "        \n",
    "    def act(self,actions):\n",
    "\n",
    "        non_played_actions = np.where(self._n==0)[0] #get the list of non played actions\n",
    "        # print(non_played_actions)\n",
    "        if len(non_played_actions) >= self.nb_actions:\n",
    "            \"\"\" Play each action at least once. \"\"\"\n",
    "            \n",
    "            actions = np.random.choice(non_played_actions,self.nb_actions,replace=False)\n",
    "            # sample_without_replacement(n_population = np.where(self._n==0)[0], n_samples = self.nb_actions)\n",
    "        else:\n",
    "            actions = get_best_actions(self._q,self.nb_actions)\n",
    "            # action = np.argmax(self._q +  np.sqrt(self._c * np.log(self._t) / self._n))\n",
    "            \n",
    "        return actions\n",
    "        \n",
    "    def update(self, context,actions, rewards):\n",
    "\n",
    "        for action in actions:\n",
    "          self._n[action] += 1\n",
    "          self._q[action] += (rewards[action] - self._q[action])/self._n[action]"
   ]
  },
  {
   "cell_type": "code",
   "execution_count": 49,
   "metadata": {
    "colab": {
     "base_uri": "https://localhost:8080/",
     "height": 295
    },
    "colab_type": "code",
    "id": "INdphnyEcqD7",
    "outputId": "d910f3ea-2302-4cfd-f901-7aea24eb1890"
   },
   "outputs": [
    {
     "data": {
      "image/png": "[encoded data removed]",
      "text/plain": [
       "<Figure size 432x288 with 1 Axes>"
      ]
     },
     "metadata": {
      "tags": []
     },
     "output_type": "display_data"
    }
   ],
   "source": [
    "#run monte carlo estimation\n",
    "regrets,regret = monte_carlo_estimation(nb_exp,nb_steps,amazon_env,\"ucb\",nb_items=nb_items)\n",
    "#plot the graph of the cumulative regret \n",
    "plot_regret(regrets,regret,low_ci,high_ci,\"UCB Agent\")"
   ]
  },
  {
   "cell_type": "markdown",
   "metadata": {
    "colab_type": "text",
    "id": "AnjZaROSeLMD"
   },
   "source": [
    "#NOTE\n",
    "\n"
   ]
  },
  {
   "cell_type": "markdown",
   "metadata": {
    "colab_type": "text",
    "id": "1z9dRZQheXlI"
   },
   "source": [
    "**From the previous graph, UCB seems to be the best agent. We will compare below UCB and LinUCB for more items.**"
   ]
  },
  {
   "cell_type": "code",
   "execution_count": 0,
   "metadata": {
    "colab": {},
    "colab_type": "code",
    "id": "bITWHbVzeWA9"
   },
   "outputs": [],
   "source": [
    "nb_items = 500\n",
    "nb_users = 100\n",
    "nb_actions = 5\n",
    "\n",
    "amazon_env = Amazon_environment(nb_users=nb_users,nb_items=nb_items,items_featues=2,internal_embedding_size=36,nb_actions=nb_actions,displayed_items_embedding_size=2)\n",
    "  "
   ]
  },
  {
   "cell_type": "code",
   "execution_count": 51,
   "metadata": {
    "colab": {
     "base_uri": "https://localhost:8080/",
     "height": 295
    },
    "colab_type": "code",
    "id": "h6dRP2UJepDq",
    "outputId": "daa71eba-8547-41bc-9a04-3c2370711bad"
   },
   "outputs": [
    {
     "data": {
      "image/png": "[encoded data removed]",
      "text/plain": [
       "<Figure size 432x288 with 1 Axes>"
      ]
     },
     "metadata": {
      "tags": []
     },
     "output_type": "display_data"
    }
   ],
   "source": [
    "#run monte carlo estimation\n",
    "regrets,regret = monte_carlo_estimation(nb_exp,nb_steps,amazon_env,\"ucb\",nb_items=nb_items)\n",
    "#plot the graph of the cumulative regret \n",
    "plot_regret(regrets,regret,low_ci,high_ci,\"UCB Agent\")"
   ]
  },
  {
   "cell_type": "code",
   "execution_count": 52,
   "metadata": {
    "colab": {
     "base_uri": "https://localhost:8080/",
     "height": 295
    },
    "colab_type": "code",
    "id": "YMSoKO4eftPw",
    "outputId": "7288f1c9-e3d1-452e-fe11-88b44c812a4f"
   },
   "outputs": [
    {
     "data": {
      "image/png": "[encoded data removed]",
      "text/plain": [
       "<Figure size 432x288 with 1 Axes>"
      ]
     },
     "metadata": {
      "tags": []
     },
     "output_type": "display_data"
    }
   ],
   "source": [
    "d = amazon_env.internal_embedding_size\n",
    "items = amazon_env.items_embedding\n",
    "delta = 0.1\n",
    "linUCB_agent = LinUCBAgent(nb_steps, d,delta, nb_items, nb_actions,items)\n",
    "\n",
    "#run monte carlo estimation\n",
    "regrets,regret = monte_carlo_estimation(nb_exp,nb_steps,amazon_env,\"linUCB\",d=d,delta=delta,items=items)\n",
    "#plot the graph of the cumulative regret \n",
    "plot_regret(regrets,regret,low_ci,high_ci,\"LinUCB Agent\")"
   ]
  },
  {
   "cell_type": "markdown",
   "metadata": {
    "colab_type": "text",
    "id": "sC-5pxs-hwjQ"
   },
   "source": [
    "**As we can see, when we increase the number of items, UCB actually performs bad because it explores a lot with respect to LinUCB which has better results. In conclusion, LinUCB is the best Agent for our environment.**"
   ]
  }
 ],
 "metadata": {
  "accelerator": "GPU",
  "colab": {
   "collapsed_sections": [],
   "name": "IA316_Amazon-rs.ipynb",
   "provenance": []
  },
  "kernelspec": {
   "display_name": "Python 3",
   "language": "python",
   "name": "python3"
  },
  "language_info": {
   "codemirror_mode": {
    "name": "ipython",
    "version": 3
   },
   "file_extension": ".py",
   "mimetype": "text/x-python",
   "name": "python",
   "nbconvert_exporter": "python",
   "pygments_lexer": "ipython3",
   "version": "3.7.1"
  }
 },
 "nbformat": 4,
 "nbformat_minor": 1
}
